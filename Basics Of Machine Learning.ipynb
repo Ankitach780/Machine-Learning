{
 "cells": [
  {
   "cell_type": "markdown",
   "id": "07005bef",
   "metadata": {},
   "source": [
    "## pandas"
   ]
  },
  {
   "cell_type": "code",
   "execution_count": null,
   "id": "a119dbb8",
   "metadata": {},
   "outputs": [],
   "source": [
    "import pandas as pd\n",
    "df=pd.DataFrame(\n",
    "{\n",
    "    'Name':[\"Braund, Mr. Owen Harris\",\n",
    "           \"Allen, mr. William Henry\",\n",
    "           \"Bonnell, Miss. Elizabeth\"],\n",
    "    'Age':[22,35,58],\n",
    "    \"sex\":['M','M','F'],\n",
    "})\n",
    "df"
   ]
  },
  {
   "cell_type": "code",
   "execution_count": null,
   "id": "7e687421",
   "metadata": {},
   "outputs": [],
   "source": [
    "df['Age']"
   ]
  },
  {
   "cell_type": "code",
   "execution_count": null,
   "id": "9890128e",
   "metadata": {},
   "outputs": [],
   "source": [
    "df['sex']"
   ]
  },
  {
   "cell_type": "code",
   "execution_count": null,
   "id": "ceb1c04c",
   "metadata": {},
   "outputs": [],
   "source": [
    "df['Name']"
   ]
  },
  {
   "cell_type": "code",
   "execution_count": null,
   "id": "a3a9c944",
   "metadata": {},
   "outputs": [],
   "source": [
    "address=pd.Series(['UK','German','itely'],name='Address')"
   ]
  },
  {
   "cell_type": "code",
   "execution_count": null,
   "id": "b5365dbf",
   "metadata": {},
   "outputs": [],
   "source": [
    "address"
   ]
  },
  {
   "cell_type": "code",
   "execution_count": null,
   "id": "9cb7ee2a",
   "metadata": {},
   "outputs": [],
   "source": [
    "df['Age'].max()"
   ]
  },
  {
   "cell_type": "code",
   "execution_count": null,
   "id": "ce4e7717",
   "metadata": {},
   "outputs": [],
   "source": [
    "df.describe()"
   ]
  },
  {
   "cell_type": "code",
   "execution_count": null,
   "id": "7bbce17b",
   "metadata": {
    "scrolled": true
   },
   "outputs": [],
   "source": [
    "df.info()  ### technical summary of the data frame"
   ]
  },
  {
   "cell_type": "code",
   "execution_count": null,
   "id": "794c0291",
   "metadata": {},
   "outputs": [],
   "source": [
    "\"\"\" explanation::: there are 3 rows/entries with value ranging,\n",
    "0-2. The table has 3 columns. the columns Name and Age consist ,\n",
    "of textual data and the other column have numerical data\"\"\""
   ]
  },
  {
   "cell_type": "code",
   "execution_count": null,
   "id": "ffdb8cef",
   "metadata": {},
   "outputs": [],
   "source": [
    "titanic=pd.DataFrame(\n",
    "{\n",
    "    \"PassengerId\":[1,2,3,4,5],\n",
    "    \"Survived\":[0,1,1,1,0],\n",
    "    \"pclass\":[3,1,3,1,3],\n",
    "    \"fare\":[7.2500,71.2833,7.9250,53.1000,8.0500],\n",
    "    \"cabin\":['NaN','C85','NaN','C123','NaN'],\n",
    "    \"Embarked\":['s','c','s','s','s'],\n",
    "})\n",
    "titanic"
   ]
  },
  {
   "cell_type": "code",
   "execution_count": null,
   "id": "39fa5795",
   "metadata": {},
   "outputs": [],
   "source": [
    "titanic.head(2)"
   ]
  },
  {
   "cell_type": "code",
   "execution_count": null,
   "id": "e647f1e8",
   "metadata": {},
   "outputs": [],
   "source": [
    "titanic.tail(3)"
   ]
  },
  {
   "cell_type": "code",
   "execution_count": null,
   "id": "f4fcd66a",
   "metadata": {},
   "outputs": [],
   "source": [
    "c=titanic['pclass']\n",
    "c"
   ]
  },
  {
   "cell_type": "code",
   "execution_count": null,
   "id": "cea34b7f",
   "metadata": {},
   "outputs": [],
   "source": [
    "c.head()"
   ]
  },
  {
   "cell_type": "code",
   "execution_count": null,
   "id": "41675037",
   "metadata": {},
   "outputs": [],
   "source": [
    "type(titanic['pclass'])"
   ]
  },
  {
   "cell_type": "code",
   "execution_count": null,
   "id": "7cade185",
   "metadata": {},
   "outputs": [],
   "source": [
    "titanic['pclass'].shape"
   ]
  },
  {
   "cell_type": "code",
   "execution_count": null,
   "id": "4c4c398a",
   "metadata": {},
   "outputs": [],
   "source": [
    "c_e=titanic[['pclass','Embarked']]\n",
    "c_e"
   ]
  },
  {
   "cell_type": "code",
   "execution_count": null,
   "id": "ea83d5fb",
   "metadata": {},
   "outputs": [],
   "source": [
    "titanic[['pclass','Embarked']].shape"
   ]
  },
  {
   "cell_type": "code",
   "execution_count": null,
   "id": "641aaa79",
   "metadata": {},
   "outputs": [],
   "source": [
    "age=[22,38,26,35,35]   ### insert the new column\n",
    "df2=titanic.assign(ages=age)\n",
    "df2"
   ]
  },
  {
   "cell_type": "code",
   "execution_count": null,
   "id": "5e866619",
   "metadata": {},
   "outputs": [],
   "source": [
    "\n",
    "df2.insert(3,'agees',value=df2.ages,allow_duplicates=False)\n",
    "df2"
   ]
  },
  {
   "cell_type": "code",
   "execution_count": null,
   "id": "9b1a6af6",
   "metadata": {},
   "outputs": [],
   "source": [
    "df2=df2.drop(labels=['ages'],axis=1)\n",
    "df2"
   ]
  },
  {
   "cell_type": "code",
   "execution_count": null,
   "id": "76b0a92c",
   "metadata": {},
   "outputs": [],
   "source": [
    "titanic=df2[df2['agees']>35]\n",
    "titanic.head()"
   ]
  },
  {
   "cell_type": "code",
   "execution_count": null,
   "id": "775aaef3",
   "metadata": {},
   "outputs": [],
   "source": [
    "df2"
   ]
  },
  {
   "cell_type": "code",
   "execution_count": null,
   "id": "218c150e",
   "metadata": {},
   "outputs": [],
   "source": [
    "titanic"
   ]
  },
  {
   "cell_type": "code",
   "execution_count": null,
   "id": "19b6cb6b",
   "metadata": {},
   "outputs": [],
   "source": [
    "df1=df2\n",
    "df1"
   ]
  },
  {
   "cell_type": "code",
   "execution_count": null,
   "id": "7f7f80e6",
   "metadata": {},
   "outputs": [],
   "source": [
    "df1['agees']>35"
   ]
  },
  {
   "cell_type": "code",
   "execution_count": null,
   "id": "bda301ea",
   "metadata": {},
   "outputs": [],
   "source": [
    "df1.shape"
   ]
  },
  {
   "cell_type": "code",
   "execution_count": null,
   "id": "92c86bb8",
   "metadata": {},
   "outputs": [],
   "source": [
    "df1['pclass'].isin([3])"
   ]
  },
  {
   "cell_type": "code",
   "execution_count": null,
   "id": "e58b8fae",
   "metadata": {},
   "outputs": [],
   "source": [
    "df1=df1[(df1['pclass']==2) | (df1['pclass']==3)]\n",
    "df1"
   ]
  },
  {
   "cell_type": "code",
   "execution_count": null,
   "id": "50e6b93d",
   "metadata": {},
   "outputs": [],
   "source": [
    "df3=df2[df2['agees'].notna()]\n",
    "df3"
   ]
  },
  {
   "cell_type": "code",
   "execution_count": null,
   "id": "3d685a82",
   "metadata": {},
   "outputs": [],
   "source": [
    "df3.shape"
   ]
  },
  {
   "cell_type": "code",
   "execution_count": null,
   "id": "5e340343",
   "metadata": {},
   "outputs": [],
   "source": [
    "df3=df2.loc[df2['agees']>30,'PassengerId']\n",
    "df3"
   ]
  },
  {
   "cell_type": "code",
   "execution_count": null,
   "id": "0c4f3dbc",
   "metadata": {},
   "outputs": [],
   "source": [
    "df3=df2.iloc[1:3,2:5]\n",
    "df3"
   ]
  },
  {
   "cell_type": "code",
   "execution_count": null,
   "id": "08fa93e0",
   "metadata": {},
   "outputs": [],
   "source": [
    "df3=df2.iloc[0:3,3]=\"anonymous\"\n",
    "df3"
   ]
  },
  {
   "cell_type": "code",
   "execution_count": null,
   "id": "d1a52b37",
   "metadata": {},
   "outputs": [],
   "source": [
    "df2"
   ]
  },
  {
   "cell_type": "code",
   "execution_count": null,
   "id": "2fcf7864",
   "metadata": {},
   "outputs": [],
   "source": [
    "df2.iloc[0:3,3]=[30,25,34]\n",
    "df2"
   ]
  },
  {
   "cell_type": "code",
   "execution_count": null,
   "id": "9ad88d55",
   "metadata": {},
   "outputs": [],
   "source": [
    "df=pd.read_csv('tested.csv')\n",
    "df"
   ]
  },
  {
   "cell_type": "code",
   "execution_count": null,
   "id": "5ab6b58a",
   "metadata": {},
   "outputs": [],
   "source": [
    "df.info()"
   ]
  },
  {
   "cell_type": "code",
   "execution_count": null,
   "id": "443c28bc",
   "metadata": {},
   "outputs": [],
   "source": [
    "df.head()"
   ]
  },
  {
   "cell_type": "code",
   "execution_count": null,
   "id": "896eda53",
   "metadata": {},
   "outputs": [],
   "source": [
    "df2=df.groupby('Sex')['Sex'].agg('count')\n",
    "df2"
   ]
  },
  {
   "cell_type": "code",
   "execution_count": null,
   "id": "0859309e",
   "metadata": {},
   "outputs": [],
   "source": [
    "df2.isnull().sum()"
   ]
  },
  {
   "cell_type": "code",
   "execution_count": null,
   "id": "4796bc50",
   "metadata": {},
   "outputs": [],
   "source": [
    "df2"
   ]
  },
  {
   "cell_type": "code",
   "execution_count": null,
   "id": "39d23142",
   "metadata": {},
   "outputs": [],
   "source": [
    "df2=df['PassengerId'].unique\n",
    "df2"
   ]
  },
  {
   "cell_type": "code",
   "execution_count": null,
   "id": "003f6cda",
   "metadata": {},
   "outputs": [],
   "source": [
    "df2=df['Cabin'].unique()\n",
    "df2"
   ]
  },
  {
   "cell_type": "code",
   "execution_count": null,
   "id": "3f5baf2f",
   "metadata": {},
   "outputs": [],
   "source": [
    "df['Cabin']"
   ]
  },
  {
   "cell_type": "code",
   "execution_count": null,
   "id": "295219f6",
   "metadata": {},
   "outputs": [],
   "source": [
    "df"
   ]
  },
  {
   "cell_type": "markdown",
   "id": "1b75f2df",
   "metadata": {},
   "source": [
    "# Seaborn"
   ]
  },
  {
   "cell_type": "code",
   "execution_count": null,
   "id": "b015d686",
   "metadata": {},
   "outputs": [],
   "source": [
    "import pandas as pd\n",
    "import numpy as np\n",
    "import matplotlib.pyplot as plt\n",
    "import seaborn as sns"
   ]
  },
  {
   "cell_type": "code",
   "execution_count": null,
   "id": "933ca0ad",
   "metadata": {},
   "outputs": [],
   "source": [
    "a=sns.load_dataset('flights')"
   ]
  },
  {
   "cell_type": "code",
   "execution_count": null,
   "id": "c6cf00c7",
   "metadata": {},
   "outputs": [],
   "source": [
    "print(a.head(20))"
   ]
  },
  {
   "cell_type": "code",
   "execution_count": null,
   "id": "011d6c46",
   "metadata": {},
   "outputs": [],
   "source": [
    "sns.relplot(data=a,x='passengers',y='month')"
   ]
  },
  {
   "cell_type": "code",
   "execution_count": null,
   "id": "989127c9",
   "metadata": {},
   "outputs": [],
   "source": [
    "sns.relplot(data=a,x='passengers',y='month',hue='year')"
   ]
  },
  {
   "cell_type": "code",
   "execution_count": null,
   "id": "1b26b622",
   "metadata": {},
   "outputs": [],
   "source": [
    "b=sns.load_dataset('tips')\n",
    "b.head()"
   ]
  },
  {
   "cell_type": "code",
   "execution_count": null,
   "id": "bdc6461d",
   "metadata": {},
   "outputs": [],
   "source": [
    "sns.catplot(x='day',y='total_bill',data=b,kind='boxen',color='yellow')"
   ]
  },
  {
   "cell_type": "code",
   "execution_count": null,
   "id": "5053eb46",
   "metadata": {},
   "outputs": [],
   "source": [
    "from scipy import stats"
   ]
  },
  {
   "cell_type": "code",
   "execution_count": null,
   "id": "0f35aaa9",
   "metadata": {},
   "outputs": [],
   "source": [
    "c=np.random.normal(loc=5,scale=4,size=100)"
   ]
  },
  {
   "cell_type": "code",
   "execution_count": null,
   "id": "2ec40473",
   "metadata": {},
   "outputs": [],
   "source": [
    "sns.distplot(c)  ### univariate graph"
   ]
  },
  {
   "cell_type": "code",
   "execution_count": null,
   "id": "d2a61308",
   "metadata": {},
   "outputs": [],
   "source": [
    "sns.set(style='darkgrid',color_codes=True)\n",
    "b=sns.PairGrid(a)\n",
    "b.map(plt.scatter)\n"
   ]
  },
  {
   "cell_type": "code",
   "execution_count": null,
   "id": "e51805fe",
   "metadata": {},
   "outputs": [],
   "source": [
    "sns.set(style='white',color_codes=True)\n",
    "sns.boxplot(x='day',y='total_bill',data=b)"
   ]
  },
  {
   "cell_type": "code",
   "execution_count": null,
   "id": "4832bfc8",
   "metadata": {},
   "outputs": [],
   "source": [
    "c=sns.color_palette()\n",
    "sns.palplot(c)"
   ]
  },
  {
   "cell_type": "code",
   "execution_count": null,
   "id": "88135045",
   "metadata": {},
   "outputs": [],
   "source": []
  }
 ],
 "metadata": {
  "kernelspec": {
   "display_name": "Python 3 (ipykernel)",
   "language": "python",
   "name": "python3"
  },
  "language_info": {
   "codemirror_mode": {
    "name": "ipython",
    "version": 3
   },
   "file_extension": ".py",
   "mimetype": "text/x-python",
   "name": "python",
   "nbconvert_exporter": "python",
   "pygments_lexer": "ipython3",
   "version": "3.9.12"
  }
 },
 "nbformat": 4,
 "nbformat_minor": 5
}
