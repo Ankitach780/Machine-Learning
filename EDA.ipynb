{
 "cells": [
  {
   "cell_type": "code",
   "execution_count": null,
   "id": "707ffaa4",
   "metadata": {},
   "outputs": [],
   "source": [
    "import pandas as pd\n",
    "import numpy as np\n",
    "import matplotlib.pyplot as plt\n",
    "import seaborn as sns\n",
    "%matplotlib inline"
   ]
  },
  {
   "cell_type": "markdown",
   "id": "f3d5e5b7",
   "metadata": {},
   "source": [
    "## reading the dataset"
   ]
  },
  {
   "cell_type": "code",
   "execution_count": null,
   "id": "edfaae8a",
   "metadata": {},
   "outputs": [],
   "source": [
    "df=pd.read_csv('dataset_diabetes_diabetic_data.csv') ## Kaggle dataset"
   ]
  },
  {
   "cell_type": "code",
   "execution_count": null,
   "id": "e5793f15",
   "metadata": {},
   "outputs": [],
   "source": [
    "df.head()"
   ]
  },
  {
   "cell_type": "markdown",
   "id": "fe20cb28",
   "metadata": {},
   "source": [
    "## diabatic is dependent column (classification based supervised )..."
   ]
  },
  {
   "cell_type": "code",
   "execution_count": null,
   "id": "16471d51",
   "metadata": {},
   "outputs": [],
   "source": [
    "df.shape"
   ]
  },
  {
   "cell_type": "code",
   "execution_count": null,
   "id": "45a8bfd0",
   "metadata": {},
   "outputs": [],
   "source": [
    "df.info()"
   ]
  },
  {
   "cell_type": "markdown",
   "id": "53329f5f",
   "metadata": {},
   "source": [
    "#### there are 12 integers and 8 object type columns"
   ]
  },
  {
   "cell_type": "markdown",
   "id": "5c46ba6e",
   "metadata": {},
   "source": [
    "### Checking the descriptive stats of the data set"
   ]
  },
  {
   "cell_type": "code",
   "execution_count": null,
   "id": "1a3d11e6",
   "metadata": {},
   "outputs": [],
   "source": [
    "df.describe(include='all').T"
   ]
  },
  {
   "cell_type": "markdown",
   "id": "a3baa05c",
   "metadata": {},
   "source": [
    "#### age is categorical column with 10 unique values\n",
    "#### num_procedures is the nomerical column mean-1.350043,median-1, min-0,max-6\n",
    "#### number_diagnoses is the nomerical column with mean-7.1,min-1.0,max-16.0"
   ]
  },
  {
   "cell_type": "markdown",
   "id": "2231615e",
   "metadata": {},
   "source": [
    "## Checking for duplicate values"
   ]
  },
  {
   "cell_type": "code",
   "execution_count": null,
   "id": "892fa5a8",
   "metadata": {},
   "outputs": [],
   "source": [
    "df.duplicated().sum()"
   ]
  },
  {
   "cell_type": "markdown",
   "id": "643692ef",
   "metadata": {},
   "source": [
    "#### There are no duplicate values"
   ]
  },
  {
   "cell_type": "code",
   "execution_count": null,
   "id": "134a2835",
   "metadata": {},
   "outputs": [],
   "source": [
    "cat_cols = df.select_dtypes(include='object')\n",
    "cat_cols.head(2)"
   ]
  },
  {
   "cell_type": "code",
   "execution_count": null,
   "id": "9c589cea",
   "metadata": {},
   "outputs": [],
   "source": [
    "for col in cat_cols:\n",
    "    print(f'The value counts for the features {col} is \\n\\n {df[col].value_counts()}')"
   ]
  },
  {
   "cell_type": "markdown",
   "id": "3703a7e7",
   "metadata": {},
   "source": [
    "## Data Viz"
   ]
  },
  {
   "cell_type": "code",
   "execution_count": null,
   "id": "0f3dfdea",
   "metadata": {},
   "outputs": [],
   "source": [
    "\n",
    "df.hist(figsize=(20,30));\n"
   ]
  },
  {
   "cell_type": "code",
   "execution_count": null,
   "id": "96c25c3f",
   "metadata": {},
   "outputs": [],
   "source": [
    "df.boxplot(figsize=(5,2),rot=30)"
   ]
  },
  {
   "cell_type": "code",
   "execution_count": null,
   "id": "12471d6e",
   "metadata": {},
   "outputs": [],
   "source": [
    "plt.figure(figsize=(5,7))\n",
    "plt.subplot(2,2,1)\n",
    "sns.histplot(x=df['patient_nbr'])\n",
    "plt.subplot(1,2,2)\n",
    "sns.boxplot(x=df['patient_nbr'])\n",
    "plt.show()"
   ]
  },
  {
   "cell_type": "code",
   "execution_count": null,
   "id": "5caeb511",
   "metadata": {},
   "outputs": [],
   "source": [
    "plt.figure(figsize=(8,6))\n",
    "sns.boxplot(data=df, x='race', y='admission_type_id')\n",
    "plt.xlabel('race')\n",
    "plt.ylabel('admission_type_id')\n",
    "plt.title('admission_type_id Distribution by Category')\n",
    "plt.show()"
   ]
  },
  {
   "cell_type": "code",
   "execution_count": null,
   "id": "243c967d",
   "metadata": {},
   "outputs": [],
   "source": [
    "df.dropna()"
   ]
  },
  {
   "cell_type": "code",
   "execution_count": null,
   "id": "3608497a",
   "metadata": {},
   "outputs": [],
   "source": [
    "from sklearn.preprocessing import LabelEncoder\n",
    "le=LabelEncoder()\n",
    "df['race']=le.fit_transform(df['race'])\n"
   ]
  },
  {
   "cell_type": "code",
   "execution_count": null,
   "id": "d24a68b6",
   "metadata": {},
   "outputs": [],
   "source": [
    "df"
   ]
  },
  {
   "cell_type": "code",
   "execution_count": null,
   "id": "3a1716ea",
   "metadata": {},
   "outputs": [],
   "source": [
    "df.drop(['gender','diag_1','diag_2','diag_3','change','age'],axis=1,inplace=True)"
   ]
  },
  {
   "cell_type": "code",
   "execution_count": null,
   "id": "e55bd77b",
   "metadata": {},
   "outputs": [],
   "source": [
    "df['diabatic']=le.fit_transform(df['diabatic'])\n"
   ]
  },
  {
   "cell_type": "code",
   "execution_count": null,
   "id": "e6b38bcb",
   "metadata": {},
   "outputs": [],
   "source": [
    "df"
   ]
  },
  {
   "cell_type": "code",
   "execution_count": null,
   "id": "0aa37dc4",
   "metadata": {},
   "outputs": [],
   "source": [
    "X = df.iloc[:,:-1]\n",
    "y = df.iloc[:,-1]"
   ]
  },
  {
   "cell_type": "code",
   "execution_count": null,
   "id": "c7588cb2",
   "metadata": {},
   "outputs": [],
   "source": [
    "from sklearn.model_selection import train_test_split\n",
    "X_train, X_test, y_train, y_test= train_test_split(X,y,test_size=0.25, random_state=45)"
   ]
  },
  {
   "cell_type": "code",
   "execution_count": null,
   "id": "04bb0c14",
   "metadata": {},
   "outputs": [],
   "source": [
    "X_train"
   ]
  },
  {
   "cell_type": "code",
   "execution_count": null,
   "id": "16288b13",
   "metadata": {},
   "outputs": [],
   "source": [
    "y_test"
   ]
  },
  {
   "cell_type": "markdown",
   "id": "de10fa27",
   "metadata": {},
   "source": [
    "# scaling"
   ]
  },
  {
   "cell_type": "code",
   "execution_count": null,
   "id": "70dbe97c",
   "metadata": {},
   "outputs": [],
   "source": [
    "from sklearn.preprocessing import StandardScaler\n",
    "sc=StandardScaler()"
   ]
  },
  {
   "cell_type": "code",
   "execution_count": null,
   "id": "a3ed4cf1",
   "metadata": {},
   "outputs": [],
   "source": [
    "X_train=sc.fit_transform(X_train)\n",
    "X_test=sc.transform(X_test)"
   ]
  },
  {
   "cell_type": "markdown",
   "id": "6a513e92",
   "metadata": {},
   "source": [
    "# Modeling"
   ]
  },
  {
   "cell_type": "code",
   "execution_count": null,
   "id": "35578215",
   "metadata": {},
   "outputs": [],
   "source": [
    "from sklearn.linear_model import LogisticRegression\n",
    "classifier=LogisticRegression()\n",
    "classifier.fit(X_train,y_train)"
   ]
  },
  {
   "cell_type": "code",
   "execution_count": null,
   "id": "15bf8920",
   "metadata": {},
   "outputs": [],
   "source": [
    "y_pred = classifier.predict(X_test)\n",
    "y_pred"
   ]
  },
  {
   "cell_type": "code",
   "execution_count": null,
   "id": "1cd5db2f",
   "metadata": {},
   "outputs": [],
   "source": [
    "y_test"
   ]
  },
  {
   "cell_type": "code",
   "execution_count": null,
   "id": "1e4960b1",
   "metadata": {},
   "outputs": [],
   "source": [
    "# accuracy\n",
    "from sklearn.metrics import confusion_matrix, accuracy_score\n",
    "print(confusion_matrix(y_test,y_pred))\n",
    "print(accuracy_score(y_test,y_pred))"
   ]
  },
  {
   "cell_type": "code",
   "execution_count": null,
   "id": "ab0810ed",
   "metadata": {},
   "outputs": [],
   "source": []
  }
 ],
 "metadata": {
  "kernelspec": {
   "display_name": "Python 3 (ipykernel)",
   "language": "python",
   "name": "python3"
  },
  "language_info": {
   "codemirror_mode": {
    "name": "ipython",
    "version": 3
   },
   "file_extension": ".py",
   "mimetype": "text/x-python",
   "name": "python",
   "nbconvert_exporter": "python",
   "pygments_lexer": "ipython3",
   "version": "3.9.12"
  }
 },
 "nbformat": 4,
 "nbformat_minor": 5
}
